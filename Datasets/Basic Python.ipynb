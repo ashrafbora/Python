{
 "cells": [
  {
   "cell_type": "markdown",
   "id": "1c8c3c84-bfd1-4a28-8d34-792e4325ac05",
   "metadata": {},
   "source": [
    "1. Write a python code which, calculates total pay for each worker based on 2 inputs: \r\n",
    "Number of hours and Rate per hour. (4 marks)\r\n",
    "If the number of hours is up to 45 then, total pay is number of hours X rate per hour. \r\n",
    "If the number of hours is greater than 45 then for all extra hours rate applied is 2x actual \r\n",
    "rate.\r\n",
    "Additionally, if a worker has worked for more than 60hrs then he also gets a spot bonus of \r\n",
    "INR 3000 rupees. \r\n",
    "- Please note, the code should be optimized for basic errors. In case of non-numeric input \r\n",
    "the code should NOT result in an error but simply ask user to input numeric values."
   ]
  },
  {
   "cell_type": "code",
   "execution_count": 5,
   "id": "182e4629-a662-4430-ac4e-1c5c681179c4",
   "metadata": {},
   "outputs": [
    {
     "name": "stdin",
     "output_type": "stream",
     "text": [
      "Rate Per Hour 5\n",
      "Number Of Hours 5\n"
     ]
    },
    {
     "name": "stdout",
     "output_type": "stream",
     "text": [
      "Your Total Pay is: Rs. 25\n"
     ]
    }
   ],
   "source": [
    "try:\n",
    "    r= int(input(\"Rate Per Hour\"))\n",
    "    h= int(input(\"Number Of Hours\"))\n",
    "    if h>60:\n",
    "        Tp= ((45*r)+(h-45)*2*r)+3000\n",
    "    elif h>45:\n",
    "        Tp= (45*r)+((h-45)*2*r)\n",
    "    else:\n",
    "        Tp= (r*h)\n",
    "        print(\"Your Total Pay is: Rs.\",Tp)\n",
    "except:\n",
    "    print(\"Please enter numeric value for the pay calculation\")"
   ]
  },
  {
   "cell_type": "markdown",
   "id": "f36cbf07-35b1-491b-937c-41c14b75c24e",
   "metadata": {},
   "source": [
    "2. Write a python code which gives division & multiplication of 2 numeric numbers, num1 & \r\n",
    "num2 (i.e. num1/num2 and num1*num2). (4 marks)\r\n",
    "If num2 is 0, then for division, print “Replace 0 with 0.0001” and divide by 0.0001. No \r\n",
    "change/replacement for multiplication.\r\n",
    "In case of a non-numeric input, the code must NOT result in an error but rather inform the \r\n",
    "use that the code is not optimized for non-numeric values.\r"
   ]
  },
  {
   "cell_type": "code",
   "execution_count": 31,
   "id": "01d1a0d7-cf3c-4a83-aa17-ccf7bc732562",
   "metadata": {},
   "outputs": [
    {
     "name": "stdin",
     "output_type": "stream",
     "text": [
      "Enter any number 3\n",
      "Enter any number 0\n"
     ]
    },
    {
     "name": "stdout",
     "output_type": "stream",
     "text": [
      "The Product of the 2 given numbers is: 0.0\n",
      "Replacing 0 with 0.0001 for the division\n",
      "The Division of the 2 given numbers is: 30000.0\n"
     ]
    }
   ],
   "source": [
    "try:\n",
    "    num1 = float(input(\"Enter any number\"))\n",
    "    num2 = float(input(\"Enter any number\"))\n",
    "\n",
    "    a= num1*num2\n",
    "    print(\"The Product of the 2 given numbers is:\",a)\n",
    "\n",
    "    if num2==0:\n",
    "        print(\"Replacing 0 with 0.0001 for the division\")\n",
    "        num3=0.0001\n",
    "        print(\"The Division of the 2 given numbers is:\",num1/num3)\n",
    "    else:\n",
    "        print(\"The Division of the 2 given numbers is:\",num1/num2)\n",
    "except:\n",
    "    print(\"Please enter numeric value for the pay calculation\")"
   ]
  },
  {
   "cell_type": "markdown",
   "id": "977057b8-acaf-4c8f-92ea-cc26e9d24a55",
   "metadata": {},
   "source": [
    "3. Write a python code which checks whether a number is Prime, composite, coprime. (2 \r\n",
    "marks)\r\n",
    "Logic:\r\n",
    "- If the number is not divisible by 2, 3, 4, 5, 7, 9, 11, 13, 15, 17, 19 then we assume it is a \r\n",
    "prime number.\r\n",
    "- If the number is divisible by any of the above numbers, then it is composite. \r\n",
    "- And finally, number “1” is coprime number."
   ]
  },
  {
   "cell_type": "code",
   "execution_count": 46,
   "id": "444fc8ed-6287-4b82-9c82-8c2cc99f7480",
   "metadata": {},
   "outputs": [
    {
     "name": "stdin",
     "output_type": "stream",
     "text": [
      "Enter any number 31\n"
     ]
    },
    {
     "name": "stdout",
     "output_type": "stream",
     "text": [
      "The given number 31 is a prime number\n"
     ]
    }
   ],
   "source": [
    "num= int(input(\"Enter any number\"))\n",
    "no_list=[2,3,4,5,7,9,11,13,15,17,19]\n",
    "\n",
    "if num==1:\n",
    "    print(\"The given number\",num,\" is co prime number\")\n",
    "else:\n",
    "    for i in no_list:\n",
    "        if num% i ==0:\n",
    "            print(\"The given number\",num,\"is a composite number\")\n",
    "            break\n",
    "        else:\n",
    "            print(\"The given number\",num,\"is a prime number\")\n",
    "            break\n",
    "    \n",
    "          "
   ]
  },
  {
   "cell_type": "markdown",
   "id": "5198a801-36ad-4851-be12-48df02cb8722",
   "metadata": {},
   "source": [
    ". Create a basic ATM simulator code. The machine can be used for 2 things \r\n",
    "1) Withdrawing money 2) Checking balance. (10 marks)\r\n",
    "The first input will be checking, whether user wants to withdraw money \r\n",
    "or check balance. “Do you want to “withdraw” or “check balance”? \r\n",
    "- If the user inputs “withdraw” then\r\n",
    "o First, ask two level verification, PIN and DOB in DDMMYYYY \r\n",
    "format. (Pin should be in integer format & dob in string format)\r\n",
    "o In case of wrong Pin or dob, print “Please try again later, as pin or \r\n",
    "dob does not match our records”\r\n",
    "o In case of correct Pin & dob, ask user to input the amount he/she \r\n",
    "wishes to withdraw.\r\n",
    "▪ If the withdrawal amount is greater than existing balance \r\n",
    "then print, “Sorry, the withdraw amount exceeds existing \r\n",
    "balance. Please try again later.”\r\n",
    "▪ If the withdrawal amount is less than equal to existing \r\n",
    "balance then print the remaining balance & a message of \r\n",
    "successful withdrawal.\r\n",
    "- If the user inputs “check balance” then\r\n",
    "o Ask for one level verification, i.e PIN number\r\n",
    "o In case of wrong Pin, print “Please try again later, as pin does not \r\n",
    "match our records”\r\n",
    "o In case of correct Pin, print the existing balance.\r\n",
    "(Assumption:\r\n",
    "1. Pin = 1234\r\n",
    "2. Dob = ‘13081992’\r\n",
    "3. Current existing balance INR 100,000\r\n",
    "4. The user will use the code only for 1 transaction)"
   ]
  },
  {
   "cell_type": "code",
   "execution_count": 15,
   "id": "bcdaeafc-b357-4e78-9391-31983034c37a",
   "metadata": {},
   "outputs": [
    {
     "name": "stdin",
     "output_type": "stream",
     "text": [
      "Do you want to “withdraw” or “check balance”? check balance\n",
      "Enter Your PIN 1234\n"
     ]
    },
    {
     "name": "stdout",
     "output_type": "stream",
     "text": [
      "Verification is successfull\n",
      "The balance in youe account is: 100000\n"
     ]
    }
   ],
   "source": [
    "Pin = 1234\n",
    "DOB = \"13081992\"\n",
    "Balance = 100000\n",
    "\n",
    "a= input(\"Do you want to “withdraw” or “check balance”?\")\n",
    "if a.lower()==\"withdraw\":\n",
    "    p=int(input(\"Enter you PIN\"))\n",
    "    dob=input(\"Enter your DOB in DDMMYYYY\")\n",
    "    if (p==Pin and dob==DOB):\n",
    "        print(\"Verification is successfull\")\n",
    "        w=int(input(\"Enter the amount you want to withdraw\"))\n",
    "        if w>Balance:\n",
    "            print(\"Sorry, the withdraw amount exceeds existing balance. Please try again later.\")\n",
    "        else:\n",
    "            print(\"Withdrawal Successfull!!\")\n",
    "            print(\"The remaining balance in youe account is:\",Balance-w)\n",
    "    else:\n",
    "        print(\"Please try again later, as pin or dob does not match our records\")\n",
    "elif a.lower()==\"check balance\":\n",
    "    p=int(input(\"Enter Your PIN\"))\n",
    "    if p==Pin:\n",
    "        print(\"Verification is successfull\")\n",
    "        print(\"The balance in youe account is:\",Balance)\n",
    "    else:\n",
    "        print(\"“Please try again later, as pin does not match our records”\")\n",
    "else:\n",
    "    print(\"Error in selecting the option, please try again\")"
   ]
  }
 ],
 "metadata": {
  "kernelspec": {
   "display_name": "Python 3 (ipykernel)",
   "language": "python",
   "name": "python3"
  },
  "language_info": {
   "codemirror_mode": {
    "name": "ipython",
    "version": 3
   },
   "file_extension": ".py",
   "mimetype": "text/x-python",
   "name": "python",
   "nbconvert_exporter": "python",
   "pygments_lexer": "ipython3",
   "version": "3.12.4"
  }
 },
 "nbformat": 4,
 "nbformat_minor": 5
}
