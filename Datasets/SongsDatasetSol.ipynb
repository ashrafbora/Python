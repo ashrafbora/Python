{
 "cells": [
  {
   "cell_type": "code",
   "execution_count": 1,
   "id": "af3da44f-b992-431d-b1e3-0e4710c195a5",
   "metadata": {},
   "outputs": [],
   "source": [
    "import numpy as np\n",
    "import pandas as pd"
   ]
  },
  {
   "cell_type": "code",
   "execution_count": 2,
   "id": "b770a531-f095-479d-850c-9f611ede90ec",
   "metadata": {},
   "outputs": [],
   "source": [
    "df=pd.ExcelFile(r'C:\\Users\\ashra\\Desktop\\SDBI Stuff\\Python\\Files\\ALLIMPORTS\\ALLIMPORTS\\exam 2023\\datasets\\songs_missing_data_v2.xlsx')"
   ]
  },
  {
   "cell_type": "code",
   "execution_count": 3,
   "id": "ac1ae4cd-9fb2-426b-bf3e-4b4e37cc7448",
   "metadata": {},
   "outputs": [
    {
     "data": {
      "text/plain": [
       "['ABC', 'DE', 'FG']"
      ]
     },
     "execution_count": 3,
     "metadata": {},
     "output_type": "execute_result"
    }
   ],
   "source": [
    "df.sheet_names"
   ]
  },
  {
   "cell_type": "code",
   "execution_count": 4,
   "id": "2cb432a6-708d-4ef9-ba1f-fed07ecb5934",
   "metadata": {},
   "outputs": [],
   "source": [
    "d={}\n",
    "for i in df.sheet_names:\n",
    "    d[i]=df.parse(i)"
   ]
  },
  {
   "cell_type": "code",
   "execution_count": 5,
   "id": "f4c056f9-ad0d-47cd-b521-4170f6734143",
   "metadata": {},
   "outputs": [
    {
     "data": {
      "text/plain": [
       "dict_keys(['ABC', 'DE', 'FG'])"
      ]
     },
     "execution_count": 5,
     "metadata": {},
     "output_type": "execute_result"
    }
   ],
   "source": [
    "d.keys()"
   ]
  },
  {
   "cell_type": "code",
   "execution_count": 6,
   "id": "22194353-826d-4145-aba1-a9078d072ab7",
   "metadata": {},
   "outputs": [],
   "source": [
    "df1=pd.DataFrame(d['ABC'])\n",
    "df2=pd.DataFrame(d['DE'])\n",
    "df3=pd.DataFrame(d['FG'])"
   ]
  },
  {
   "cell_type": "code",
   "execution_count": 7,
   "id": "7c6dc872-ff2c-4d99-a95b-21252842a32f",
   "metadata": {},
   "outputs": [
    {
     "data": {
      "text/html": [
       "<div>\n",
       "<style scoped>\n",
       "    .dataframe tbody tr th:only-of-type {\n",
       "        vertical-align: middle;\n",
       "    }\n",
       "\n",
       "    .dataframe tbody tr th {\n",
       "        vertical-align: top;\n",
       "    }\n",
       "\n",
       "    .dataframe thead th {\n",
       "        text-align: right;\n",
       "    }\n",
       "</style>\n",
       "<table border=\"1\" class=\"dataframe\">\n",
       "  <thead>\n",
       "    <tr style=\"text-align: right;\">\n",
       "      <th></th>\n",
       "      <th>ABC.Date</th>\n",
       "      <th>ABC.Song</th>\n",
       "      <th>ABC.Views_on_Youtube</th>\n",
       "      <th>ABC.Total_Views_on_all_platforms</th>\n",
       "    </tr>\n",
       "  </thead>\n",
       "  <tbody>\n",
       "    <tr>\n",
       "      <th>0</th>\n",
       "      <td>2020-12-01</td>\n",
       "      <td>A</td>\n",
       "      <td>430</td>\n",
       "      <td>1057</td>\n",
       "    </tr>\n",
       "    <tr>\n",
       "      <th>1</th>\n",
       "      <td>2020-12-02</td>\n",
       "      <td>A</td>\n",
       "      <td>426</td>\n",
       "      <td>1131</td>\n",
       "    </tr>\n",
       "    <tr>\n",
       "      <th>2</th>\n",
       "      <td>2020-12-03</td>\n",
       "      <td>A</td>\n",
       "      <td>485</td>\n",
       "      <td>1133</td>\n",
       "    </tr>\n",
       "  </tbody>\n",
       "</table>\n",
       "</div>"
      ],
      "text/plain": [
       "    ABC.Date ABC.Song  ABC.Views_on_Youtube  ABC.Total_Views_on_all_platforms\n",
       "0 2020-12-01        A                   430                              1057\n",
       "1 2020-12-02        A                   426                              1131\n",
       "2 2020-12-03        A                   485                              1133"
      ]
     },
     "execution_count": 7,
     "metadata": {},
     "output_type": "execute_result"
    }
   ],
   "source": [
    "df1.head(3)"
   ]
  },
  {
   "cell_type": "code",
   "execution_count": 8,
   "id": "e926a2c7-a92a-421a-be20-60f71e2b40d8",
   "metadata": {},
   "outputs": [
    {
     "data": {
      "text/html": [
       "<div>\n",
       "<style scoped>\n",
       "    .dataframe tbody tr th:only-of-type {\n",
       "        vertical-align: middle;\n",
       "    }\n",
       "\n",
       "    .dataframe tbody tr th {\n",
       "        vertical-align: top;\n",
       "    }\n",
       "\n",
       "    .dataframe thead th {\n",
       "        text-align: right;\n",
       "    }\n",
       "</style>\n",
       "<table border=\"1\" class=\"dataframe\">\n",
       "  <thead>\n",
       "    <tr style=\"text-align: right;\">\n",
       "      <th></th>\n",
       "      <th>DE.Date</th>\n",
       "      <th>DE.Song</th>\n",
       "      <th>DE.Views_on_Youtube</th>\n",
       "      <th>DE.Total_Views_on_all_platforms</th>\n",
       "    </tr>\n",
       "  </thead>\n",
       "  <tbody>\n",
       "    <tr>\n",
       "      <th>0</th>\n",
       "      <td>2020-12-01</td>\n",
       "      <td>D</td>\n",
       "      <td>184</td>\n",
       "      <td>934</td>\n",
       "    </tr>\n",
       "    <tr>\n",
       "      <th>1</th>\n",
       "      <td>2020-12-02</td>\n",
       "      <td>D</td>\n",
       "      <td>163</td>\n",
       "      <td>914</td>\n",
       "    </tr>\n",
       "    <tr>\n",
       "      <th>2</th>\n",
       "      <td>2020-12-03</td>\n",
       "      <td>D</td>\n",
       "      <td>206</td>\n",
       "      <td>982</td>\n",
       "    </tr>\n",
       "  </tbody>\n",
       "</table>\n",
       "</div>"
      ],
      "text/plain": [
       "     DE.Date DE.Song  DE.Views_on_Youtube  DE.Total_Views_on_all_platforms\n",
       "0 2020-12-01       D                  184                              934\n",
       "1 2020-12-02       D                  163                              914\n",
       "2 2020-12-03       D                  206                              982"
      ]
     },
     "execution_count": 8,
     "metadata": {},
     "output_type": "execute_result"
    }
   ],
   "source": [
    "df2.head(3)"
   ]
  },
  {
   "cell_type": "code",
   "execution_count": 9,
   "id": "9da378af-bf33-4626-9931-686b9edec32c",
   "metadata": {},
   "outputs": [
    {
     "data": {
      "text/html": [
       "<div>\n",
       "<style scoped>\n",
       "    .dataframe tbody tr th:only-of-type {\n",
       "        vertical-align: middle;\n",
       "    }\n",
       "\n",
       "    .dataframe tbody tr th {\n",
       "        vertical-align: top;\n",
       "    }\n",
       "\n",
       "    .dataframe thead th {\n",
       "        text-align: right;\n",
       "    }\n",
       "</style>\n",
       "<table border=\"1\" class=\"dataframe\">\n",
       "  <thead>\n",
       "    <tr style=\"text-align: right;\">\n",
       "      <th></th>\n",
       "      <th>FG.Date</th>\n",
       "      <th>FG.Song</th>\n",
       "      <th>FG.Views_on_Youtube</th>\n",
       "      <th>FG.Total_Views_on_all_platforms</th>\n",
       "    </tr>\n",
       "  </thead>\n",
       "  <tbody>\n",
       "    <tr>\n",
       "      <th>0</th>\n",
       "      <td>2020-12-01</td>\n",
       "      <td>F</td>\n",
       "      <td>154</td>\n",
       "      <td>0</td>\n",
       "    </tr>\n",
       "    <tr>\n",
       "      <th>1</th>\n",
       "      <td>2020-12-02</td>\n",
       "      <td>F</td>\n",
       "      <td>490</td>\n",
       "      <td>1176</td>\n",
       "    </tr>\n",
       "    <tr>\n",
       "      <th>2</th>\n",
       "      <td>2020-12-03</td>\n",
       "      <td>F</td>\n",
       "      <td>329</td>\n",
       "      <td>0</td>\n",
       "    </tr>\n",
       "  </tbody>\n",
       "</table>\n",
       "</div>"
      ],
      "text/plain": [
       "     FG.Date FG.Song  FG.Views_on_Youtube  FG.Total_Views_on_all_platforms\n",
       "0 2020-12-01       F                  154                                0\n",
       "1 2020-12-02       F                  490                             1176\n",
       "2 2020-12-03       F                  329                                0"
      ]
     },
     "execution_count": 9,
     "metadata": {},
     "output_type": "execute_result"
    }
   ],
   "source": [
    "df3.head(3)"
   ]
  },
  {
   "cell_type": "code",
   "execution_count": 10,
   "id": "62e9f0ca-465c-46a7-87c5-570bfa8993ea",
   "metadata": {},
   "outputs": [],
   "source": [
    "df1.rename(columns={'ABC.Date':'Date','ABC.Song':'Song','ABC.Views_on_Youtube':'Views_on_Youtube','ABC.Total_Views_on_all_platforms':'Total_Views_on_all_platforms'},inplace=True)"
   ]
  },
  {
   "cell_type": "code",
   "execution_count": 11,
   "id": "21fec223-76b2-4d7e-86b9-6275fc6f7fed",
   "metadata": {},
   "outputs": [],
   "source": [
    "df2.rename(columns={'DE.Date':'Date','DE.Song':'Song','DE.Views_on_Youtube':'Views_on_Youtube','DE.Total_Views_on_all_platforms':'Total_Views_on_all_platforms'},inplace=True)"
   ]
  },
  {
   "cell_type": "code",
   "execution_count": 12,
   "id": "c9801615-0a4c-4895-a074-4404dec56499",
   "metadata": {},
   "outputs": [],
   "source": [
    "df3.rename(columns={'FG.Date':'Date','FG.Song':'Song','FG.Views_on_Youtube':'Views_on_Youtube','FG.Total_Views_on_all_platforms':'Total_Views_on_all_platforms'},inplace=True)"
   ]
  },
  {
   "cell_type": "code",
   "execution_count": 13,
   "id": "a2f4cde1-4fcc-4d01-b292-bc3ec070ae2e",
   "metadata": {},
   "outputs": [],
   "source": [
    "df4=pd.concat([df1,df2])"
   ]
  },
  {
   "cell_type": "code",
   "execution_count": 14,
   "id": "863ecb28-c662-4f95-b49b-09ac90bd010f",
   "metadata": {},
   "outputs": [],
   "source": [
    "df5=pd.concat([df4,df3])"
   ]
  },
  {
   "cell_type": "code",
   "execution_count": 15,
   "id": "89eeb892-f611-4f12-9a31-9bf496dcfc82",
   "metadata": {},
   "outputs": [
    {
     "data": {
      "text/plain": [
       "(826, 4)"
      ]
     },
     "execution_count": 15,
     "metadata": {},
     "output_type": "execute_result"
    }
   ],
   "source": [
    "df5.shape"
   ]
  },
  {
   "cell_type": "code",
   "execution_count": 16,
   "id": "d62195e1-255a-4334-b159-a455ad285f74",
   "metadata": {},
   "outputs": [
    {
     "data": {
      "text/html": [
       "<div>\n",
       "<style scoped>\n",
       "    .dataframe tbody tr th:only-of-type {\n",
       "        vertical-align: middle;\n",
       "    }\n",
       "\n",
       "    .dataframe tbody tr th {\n",
       "        vertical-align: top;\n",
       "    }\n",
       "\n",
       "    .dataframe thead th {\n",
       "        text-align: right;\n",
       "    }\n",
       "</style>\n",
       "<table border=\"1\" class=\"dataframe\">\n",
       "  <thead>\n",
       "    <tr style=\"text-align: right;\">\n",
       "      <th></th>\n",
       "      <th>Date</th>\n",
       "      <th>Song</th>\n",
       "      <th>Views_on_Youtube</th>\n",
       "      <th>Total_Views_on_all_platforms</th>\n",
       "    </tr>\n",
       "  </thead>\n",
       "  <tbody>\n",
       "    <tr>\n",
       "      <th>0</th>\n",
       "      <td>2020-12-01</td>\n",
       "      <td>A</td>\n",
       "      <td>430</td>\n",
       "      <td>1057</td>\n",
       "    </tr>\n",
       "    <tr>\n",
       "      <th>1</th>\n",
       "      <td>2020-12-02</td>\n",
       "      <td>A</td>\n",
       "      <td>426</td>\n",
       "      <td>1131</td>\n",
       "    </tr>\n",
       "    <tr>\n",
       "      <th>2</th>\n",
       "      <td>2020-12-03</td>\n",
       "      <td>A</td>\n",
       "      <td>485</td>\n",
       "      <td>1133</td>\n",
       "    </tr>\n",
       "    <tr>\n",
       "      <th>3</th>\n",
       "      <td>2020-12-04</td>\n",
       "      <td>A</td>\n",
       "      <td>125</td>\n",
       "      <td>0</td>\n",
       "    </tr>\n",
       "    <tr>\n",
       "      <th>4</th>\n",
       "      <td>2020-12-05</td>\n",
       "      <td>A</td>\n",
       "      <td>147</td>\n",
       "      <td>905</td>\n",
       "    </tr>\n",
       "    <tr>\n",
       "      <th>...</th>\n",
       "      <td>...</td>\n",
       "      <td>...</td>\n",
       "      <td>...</td>\n",
       "      <td>...</td>\n",
       "    </tr>\n",
       "    <tr>\n",
       "      <th>231</th>\n",
       "      <td>2020-11-26</td>\n",
       "      <td>G</td>\n",
       "      <td>264</td>\n",
       "      <td>1043</td>\n",
       "    </tr>\n",
       "    <tr>\n",
       "      <th>232</th>\n",
       "      <td>2020-11-27</td>\n",
       "      <td>G</td>\n",
       "      <td>302</td>\n",
       "      <td>0</td>\n",
       "    </tr>\n",
       "    <tr>\n",
       "      <th>233</th>\n",
       "      <td>2020-11-28</td>\n",
       "      <td>G</td>\n",
       "      <td>0</td>\n",
       "      <td>766</td>\n",
       "    </tr>\n",
       "    <tr>\n",
       "      <th>234</th>\n",
       "      <td>2020-11-29</td>\n",
       "      <td>G</td>\n",
       "      <td>366</td>\n",
       "      <td>1111</td>\n",
       "    </tr>\n",
       "    <tr>\n",
       "      <th>235</th>\n",
       "      <td>2020-11-30</td>\n",
       "      <td>G</td>\n",
       "      <td>428</td>\n",
       "      <td>0</td>\n",
       "    </tr>\n",
       "  </tbody>\n",
       "</table>\n",
       "<p>826 rows × 4 columns</p>\n",
       "</div>"
      ],
      "text/plain": [
       "          Date Song  Views_on_Youtube  Total_Views_on_all_platforms\n",
       "0   2020-12-01    A               430                          1057\n",
       "1   2020-12-02    A               426                          1131\n",
       "2   2020-12-03    A               485                          1133\n",
       "3   2020-12-04    A               125                             0\n",
       "4   2020-12-05    A               147                           905\n",
       "..         ...  ...               ...                           ...\n",
       "231 2020-11-26    G               264                          1043\n",
       "232 2020-11-27    G               302                             0\n",
       "233 2020-11-28    G                 0                           766\n",
       "234 2020-11-29    G               366                          1111\n",
       "235 2020-11-30    G               428                             0\n",
       "\n",
       "[826 rows x 4 columns]"
      ]
     },
     "execution_count": 16,
     "metadata": {},
     "output_type": "execute_result"
    }
   ],
   "source": [
    "df5"
   ]
  },
  {
   "cell_type": "code",
   "execution_count": 17,
   "id": "325228bd-321e-457a-a960-7ac61e562e26",
   "metadata": {},
   "outputs": [
    {
     "data": {
      "text/plain": [
       "array(['A', 'B', 'C', 'D', 'E', 'F', 'G'], dtype=object)"
      ]
     },
     "execution_count": 17,
     "metadata": {},
     "output_type": "execute_result"
    }
   ],
   "source": [
    "df5['Song'].unique()"
   ]
  },
  {
   "cell_type": "code",
   "execution_count": 18,
   "id": "5a648ed7-92fa-4bef-9fbe-18ce305180db",
   "metadata": {},
   "outputs": [
    {
     "data": {
      "text/plain": [
       "Song\n",
       "A    118\n",
       "B    118\n",
       "C    118\n",
       "D    118\n",
       "E    118\n",
       "F    118\n",
       "G    118\n",
       "Name: Song, dtype: int64"
      ]
     },
     "execution_count": 18,
     "metadata": {},
     "output_type": "execute_result"
    }
   ],
   "source": [
    "df5.groupby('Song')['Song'].count()"
   ]
  },
  {
   "cell_type": "code",
   "execution_count": 19,
   "id": "317d1847-329a-4a99-8e30-7b0730c65a8f",
   "metadata": {},
   "outputs": [
    {
     "data": {
      "text/html": [
       "<div>\n",
       "<style scoped>\n",
       "    .dataframe tbody tr th:only-of-type {\n",
       "        vertical-align: middle;\n",
       "    }\n",
       "\n",
       "    .dataframe tbody tr th {\n",
       "        vertical-align: top;\n",
       "    }\n",
       "\n",
       "    .dataframe thead tr th {\n",
       "        text-align: left;\n",
       "    }\n",
       "\n",
       "    .dataframe thead tr:last-of-type th {\n",
       "        text-align: right;\n",
       "    }\n",
       "</style>\n",
       "<table border=\"1\" class=\"dataframe\">\n",
       "  <thead>\n",
       "    <tr>\n",
       "      <th></th>\n",
       "      <th>mean</th>\n",
       "      <th>min</th>\n",
       "      <th>max</th>\n",
       "    </tr>\n",
       "    <tr>\n",
       "      <th></th>\n",
       "      <th>Total_Views_on_all_platforms</th>\n",
       "      <th>Total_Views_on_all_platforms</th>\n",
       "      <th>Total_Views_on_all_platforms</th>\n",
       "    </tr>\n",
       "    <tr>\n",
       "      <th>Song</th>\n",
       "      <th></th>\n",
       "      <th></th>\n",
       "      <th></th>\n",
       "    </tr>\n",
       "  </thead>\n",
       "  <tbody>\n",
       "    <tr>\n",
       "      <th>A</th>\n",
       "      <td>792.991525</td>\n",
       "      <td>0</td>\n",
       "      <td>1243</td>\n",
       "    </tr>\n",
       "    <tr>\n",
       "      <th>B</th>\n",
       "      <td>813.991525</td>\n",
       "      <td>0</td>\n",
       "      <td>1225</td>\n",
       "    </tr>\n",
       "    <tr>\n",
       "      <th>C</th>\n",
       "      <td>725.771186</td>\n",
       "      <td>0</td>\n",
       "      <td>1233</td>\n",
       "    </tr>\n",
       "    <tr>\n",
       "      <th>D</th>\n",
       "      <td>835.550847</td>\n",
       "      <td>0</td>\n",
       "      <td>1221</td>\n",
       "    </tr>\n",
       "    <tr>\n",
       "      <th>E</th>\n",
       "      <td>798.322034</td>\n",
       "      <td>0</td>\n",
       "      <td>1228</td>\n",
       "    </tr>\n",
       "    <tr>\n",
       "      <th>F</th>\n",
       "      <td>835.211864</td>\n",
       "      <td>0</td>\n",
       "      <td>1223</td>\n",
       "    </tr>\n",
       "    <tr>\n",
       "      <th>G</th>\n",
       "      <td>750.338983</td>\n",
       "      <td>0</td>\n",
       "      <td>1235</td>\n",
       "    </tr>\n",
       "  </tbody>\n",
       "</table>\n",
       "</div>"
      ],
      "text/plain": [
       "                             mean                          min  \\\n",
       "     Total_Views_on_all_platforms Total_Views_on_all_platforms   \n",
       "Song                                                             \n",
       "A                      792.991525                            0   \n",
       "B                      813.991525                            0   \n",
       "C                      725.771186                            0   \n",
       "D                      835.550847                            0   \n",
       "E                      798.322034                            0   \n",
       "F                      835.211864                            0   \n",
       "G                      750.338983                            0   \n",
       "\n",
       "                              max  \n",
       "     Total_Views_on_all_platforms  \n",
       "Song                               \n",
       "A                            1243  \n",
       "B                            1225  \n",
       "C                            1233  \n",
       "D                            1221  \n",
       "E                            1228  \n",
       "F                            1223  \n",
       "G                            1235  "
      ]
     },
     "execution_count": 19,
     "metadata": {},
     "output_type": "execute_result"
    }
   ],
   "source": [
    "pd.pivot_table(df5,index='Song',values='Total_Views_on_all_platforms',aggfunc=['mean','min','max'])"
   ]
  },
  {
   "cell_type": "code",
   "execution_count": 20,
   "id": "c92371f1-80f2-482a-bf03-ed42efefb10c",
   "metadata": {},
   "outputs": [],
   "source": [
    "song_miss=df5[(df5['Views_on_Youtube']==0) | (df5['Total_Views_on_all_platforms']==0)]"
   ]
  },
  {
   "cell_type": "code",
   "execution_count": 21,
   "id": "8c026ec1-3fce-4d28-aa93-0e6a6fd099e7",
   "metadata": {},
   "outputs": [
    {
     "data": {
      "text/html": [
       "<div>\n",
       "<style scoped>\n",
       "    .dataframe tbody tr th:only-of-type {\n",
       "        vertical-align: middle;\n",
       "    }\n",
       "\n",
       "    .dataframe tbody tr th {\n",
       "        vertical-align: top;\n",
       "    }\n",
       "\n",
       "    .dataframe thead th {\n",
       "        text-align: right;\n",
       "    }\n",
       "</style>\n",
       "<table border=\"1\" class=\"dataframe\">\n",
       "  <thead>\n",
       "    <tr style=\"text-align: right;\">\n",
       "      <th></th>\n",
       "      <th>Views_on_Youtube</th>\n",
       "    </tr>\n",
       "    <tr>\n",
       "      <th>Song</th>\n",
       "      <th></th>\n",
       "    </tr>\n",
       "  </thead>\n",
       "  <tbody>\n",
       "    <tr>\n",
       "      <th>A</th>\n",
       "      <td>17</td>\n",
       "    </tr>\n",
       "    <tr>\n",
       "      <th>B</th>\n",
       "      <td>23</td>\n",
       "    </tr>\n",
       "    <tr>\n",
       "      <th>C</th>\n",
       "      <td>19</td>\n",
       "    </tr>\n",
       "    <tr>\n",
       "      <th>D</th>\n",
       "      <td>21</td>\n",
       "    </tr>\n",
       "    <tr>\n",
       "      <th>E</th>\n",
       "      <td>19</td>\n",
       "    </tr>\n",
       "    <tr>\n",
       "      <th>F</th>\n",
       "      <td>21</td>\n",
       "    </tr>\n",
       "    <tr>\n",
       "      <th>G</th>\n",
       "      <td>20</td>\n",
       "    </tr>\n",
       "  </tbody>\n",
       "</table>\n",
       "</div>"
      ],
      "text/plain": [
       "      Views_on_Youtube\n",
       "Song                  \n",
       "A                   17\n",
       "B                   23\n",
       "C                   19\n",
       "D                   21\n",
       "E                   19\n",
       "F                   21\n",
       "G                   20"
      ]
     },
     "execution_count": 21,
     "metadata": {},
     "output_type": "execute_result"
    }
   ],
   "source": [
    "pd.pivot_table(song_miss[(song_miss['Views_on_Youtube']==0)],index='Song',values=['Views_on_Youtube'],aggfunc='count')"
   ]
  },
  {
   "cell_type": "code",
   "execution_count": 22,
   "id": "cd5ef2ac-3f87-4594-a053-177443149ff9",
   "metadata": {},
   "outputs": [
    {
     "data": {
      "text/html": [
       "<div>\n",
       "<style scoped>\n",
       "    .dataframe tbody tr th:only-of-type {\n",
       "        vertical-align: middle;\n",
       "    }\n",
       "\n",
       "    .dataframe tbody tr th {\n",
       "        vertical-align: top;\n",
       "    }\n",
       "\n",
       "    .dataframe thead th {\n",
       "        text-align: right;\n",
       "    }\n",
       "</style>\n",
       "<table border=\"1\" class=\"dataframe\">\n",
       "  <thead>\n",
       "    <tr style=\"text-align: right;\">\n",
       "      <th></th>\n",
       "      <th>Total_Views_on_all_platforms</th>\n",
       "    </tr>\n",
       "    <tr>\n",
       "      <th>Song</th>\n",
       "      <th></th>\n",
       "    </tr>\n",
       "  </thead>\n",
       "  <tbody>\n",
       "    <tr>\n",
       "      <th>A</th>\n",
       "      <td>26</td>\n",
       "    </tr>\n",
       "    <tr>\n",
       "      <th>B</th>\n",
       "      <td>25</td>\n",
       "    </tr>\n",
       "    <tr>\n",
       "      <th>C</th>\n",
       "      <td>26</td>\n",
       "    </tr>\n",
       "    <tr>\n",
       "      <th>D</th>\n",
       "      <td>20</td>\n",
       "    </tr>\n",
       "    <tr>\n",
       "      <th>E</th>\n",
       "      <td>25</td>\n",
       "    </tr>\n",
       "    <tr>\n",
       "      <th>F</th>\n",
       "      <td>24</td>\n",
       "    </tr>\n",
       "    <tr>\n",
       "      <th>G</th>\n",
       "      <td>30</td>\n",
       "    </tr>\n",
       "  </tbody>\n",
       "</table>\n",
       "</div>"
      ],
      "text/plain": [
       "      Total_Views_on_all_platforms\n",
       "Song                              \n",
       "A                               26\n",
       "B                               25\n",
       "C                               26\n",
       "D                               20\n",
       "E                               25\n",
       "F                               24\n",
       "G                               30"
      ]
     },
     "execution_count": 22,
     "metadata": {},
     "output_type": "execute_result"
    }
   ],
   "source": [
    "pd.pivot_table(song_miss[(song_miss['Total_Views_on_all_platforms']==0)],index='Song',values=['Total_Views_on_all_platforms'],aggfunc='count')"
   ]
  },
  {
   "cell_type": "code",
   "execution_count": 23,
   "id": "88a90fa1-94a1-4c3a-bcbf-ea965cb6bd3c",
   "metadata": {},
   "outputs": [
    {
     "data": {
      "text/html": [
       "<div>\n",
       "<style scoped>\n",
       "    .dataframe tbody tr th:only-of-type {\n",
       "        vertical-align: middle;\n",
       "    }\n",
       "\n",
       "    .dataframe tbody tr th {\n",
       "        vertical-align: top;\n",
       "    }\n",
       "\n",
       "    .dataframe thead th {\n",
       "        text-align: right;\n",
       "    }\n",
       "</style>\n",
       "<table border=\"1\" class=\"dataframe\">\n",
       "  <thead>\n",
       "    <tr style=\"text-align: right;\">\n",
       "      <th></th>\n",
       "      <th>Total_Views_on_all_platforms</th>\n",
       "      <th>Views_on_Youtube</th>\n",
       "    </tr>\n",
       "    <tr>\n",
       "      <th>Song</th>\n",
       "      <th></th>\n",
       "      <th></th>\n",
       "    </tr>\n",
       "  </thead>\n",
       "  <tbody>\n",
       "    <tr>\n",
       "      <th>A</th>\n",
       "      <td>3</td>\n",
       "      <td>3</td>\n",
       "    </tr>\n",
       "    <tr>\n",
       "      <th>B</th>\n",
       "      <td>4</td>\n",
       "      <td>4</td>\n",
       "    </tr>\n",
       "    <tr>\n",
       "      <th>C</th>\n",
       "      <td>3</td>\n",
       "      <td>3</td>\n",
       "    </tr>\n",
       "    <tr>\n",
       "      <th>D</th>\n",
       "      <td>2</td>\n",
       "      <td>2</td>\n",
       "    </tr>\n",
       "    <tr>\n",
       "      <th>E</th>\n",
       "      <td>4</td>\n",
       "      <td>4</td>\n",
       "    </tr>\n",
       "    <tr>\n",
       "      <th>F</th>\n",
       "      <td>3</td>\n",
       "      <td>3</td>\n",
       "    </tr>\n",
       "    <tr>\n",
       "      <th>G</th>\n",
       "      <td>4</td>\n",
       "      <td>4</td>\n",
       "    </tr>\n",
       "  </tbody>\n",
       "</table>\n",
       "</div>"
      ],
      "text/plain": [
       "      Total_Views_on_all_platforms  Views_on_Youtube\n",
       "Song                                                \n",
       "A                                3                 3\n",
       "B                                4                 4\n",
       "C                                3                 3\n",
       "D                                2                 2\n",
       "E                                4                 4\n",
       "F                                3                 3\n",
       "G                                4                 4"
      ]
     },
     "execution_count": 23,
     "metadata": {},
     "output_type": "execute_result"
    }
   ],
   "source": [
    "pd.pivot_table(song_miss[(song_miss['Views_on_Youtube']==0)&(song_miss['Total_Views_on_all_platforms']==0) ],index='Song',values=['Views_on_Youtube','Total_Views_on_all_platforms'],aggfunc='count')"
   ]
  },
  {
   "cell_type": "code",
   "execution_count": 24,
   "id": "3f602b2b-f531-4509-8c9c-5a9d8320ccdb",
   "metadata": {},
   "outputs": [
    {
     "data": {
      "text/plain": [
       "293"
      ]
     },
     "execution_count": 24,
     "metadata": {},
     "output_type": "execute_result"
    }
   ],
   "source": [
    "song_miss.shape[0]"
   ]
  },
  {
   "cell_type": "code",
   "execution_count": 25,
   "id": "e1aa8786-62b2-4d25-bce8-2fc7a99ed149",
   "metadata": {},
   "outputs": [],
   "source": [
    "df5['mean_yt']=df5.groupby('Song')['Views_on_Youtube'].transform('mean')"
   ]
  },
  {
   "cell_type": "code",
   "execution_count": 26,
   "id": "8d579bb2-90d1-4fd1-8fa6-bfc0cdc144a2",
   "metadata": {},
   "outputs": [
    {
     "data": {
      "text/html": [
       "<div>\n",
       "<style scoped>\n",
       "    .dataframe tbody tr th:only-of-type {\n",
       "        vertical-align: middle;\n",
       "    }\n",
       "\n",
       "    .dataframe tbody tr th {\n",
       "        vertical-align: top;\n",
       "    }\n",
       "\n",
       "    .dataframe thead th {\n",
       "        text-align: right;\n",
       "    }\n",
       "</style>\n",
       "<table border=\"1\" class=\"dataframe\">\n",
       "  <thead>\n",
       "    <tr style=\"text-align: right;\">\n",
       "      <th></th>\n",
       "      <th>Date</th>\n",
       "      <th>Song</th>\n",
       "      <th>Views_on_Youtube</th>\n",
       "      <th>Total_Views_on_all_platforms</th>\n",
       "      <th>mean_yt</th>\n",
       "    </tr>\n",
       "  </thead>\n",
       "  <tbody>\n",
       "    <tr>\n",
       "      <th>123</th>\n",
       "      <td>2021-02-06</td>\n",
       "      <td>B</td>\n",
       "      <td>351</td>\n",
       "      <td>1029</td>\n",
       "      <td>255.898305</td>\n",
       "    </tr>\n",
       "    <tr>\n",
       "      <th>347</th>\n",
       "      <td>2020-11-24</td>\n",
       "      <td>C</td>\n",
       "      <td>167</td>\n",
       "      <td>894</td>\n",
       "      <td>206.483051</td>\n",
       "    </tr>\n",
       "    <tr>\n",
       "      <th>80</th>\n",
       "      <td>2021-02-21</td>\n",
       "      <td>D</td>\n",
       "      <td>459</td>\n",
       "      <td>0</td>\n",
       "      <td>238.406780</td>\n",
       "    </tr>\n",
       "    <tr>\n",
       "      <th>93</th>\n",
       "      <td>2021-02-06</td>\n",
       "      <td>E</td>\n",
       "      <td>0</td>\n",
       "      <td>890</td>\n",
       "      <td>263.076271</td>\n",
       "    </tr>\n",
       "    <tr>\n",
       "      <th>53</th>\n",
       "      <td>2020-12-24</td>\n",
       "      <td>G</td>\n",
       "      <td>249</td>\n",
       "      <td>904</td>\n",
       "      <td>252.533898</td>\n",
       "    </tr>\n",
       "    <tr>\n",
       "      <th>165</th>\n",
       "      <td>2021-01-20</td>\n",
       "      <td>G</td>\n",
       "      <td>443</td>\n",
       "      <td>0</td>\n",
       "      <td>252.533898</td>\n",
       "    </tr>\n",
       "    <tr>\n",
       "      <th>71</th>\n",
       "      <td>2021-02-12</td>\n",
       "      <td>D</td>\n",
       "      <td>141</td>\n",
       "      <td>787</td>\n",
       "      <td>238.406780</td>\n",
       "    </tr>\n",
       "    <tr>\n",
       "      <th>117</th>\n",
       "      <td>2021-02-28</td>\n",
       "      <td>A</td>\n",
       "      <td>231</td>\n",
       "      <td>1010</td>\n",
       "      <td>289.398305</td>\n",
       "    </tr>\n",
       "    <tr>\n",
       "      <th>7</th>\n",
       "      <td>2020-12-08</td>\n",
       "      <td>D</td>\n",
       "      <td>0</td>\n",
       "      <td>1070</td>\n",
       "      <td>238.406780</td>\n",
       "    </tr>\n",
       "    <tr>\n",
       "      <th>61</th>\n",
       "      <td>2021-02-02</td>\n",
       "      <td>F</td>\n",
       "      <td>0</td>\n",
       "      <td>1176</td>\n",
       "      <td>255.525424</td>\n",
       "    </tr>\n",
       "  </tbody>\n",
       "</table>\n",
       "</div>"
      ],
      "text/plain": [
       "          Date Song  Views_on_Youtube  Total_Views_on_all_platforms  \\\n",
       "123 2021-02-06    B               351                          1029   \n",
       "347 2020-11-24    C               167                           894   \n",
       "80  2021-02-21    D               459                             0   \n",
       "93  2021-02-06    E                 0                           890   \n",
       "53  2020-12-24    G               249                           904   \n",
       "165 2021-01-20    G               443                             0   \n",
       "71  2021-02-12    D               141                           787   \n",
       "117 2021-02-28    A               231                          1010   \n",
       "7   2020-12-08    D                 0                          1070   \n",
       "61  2021-02-02    F                 0                          1176   \n",
       "\n",
       "        mean_yt  \n",
       "123  255.898305  \n",
       "347  206.483051  \n",
       "80   238.406780  \n",
       "93   263.076271  \n",
       "53   252.533898  \n",
       "165  252.533898  \n",
       "71   238.406780  \n",
       "117  289.398305  \n",
       "7    238.406780  \n",
       "61   255.525424  "
      ]
     },
     "execution_count": 26,
     "metadata": {},
     "output_type": "execute_result"
    }
   ],
   "source": [
    "df5.sample(10)"
   ]
  },
  {
   "cell_type": "code",
   "execution_count": 27,
   "id": "e47e9bbe-b72d-4b25-adde-fcafb3a1f53d",
   "metadata": {},
   "outputs": [],
   "source": [
    "df5['Views_on_YouTube']=np.where((df5['Views_on_Youtube']==0),df5['mean_yt'],df5['Views_on_Youtube'])"
   ]
  },
  {
   "cell_type": "code",
   "execution_count": 28,
   "id": "e6d277ac-dbb7-484e-b1ff-470cbfc0d9ad",
   "metadata": {},
   "outputs": [],
   "source": [
    "df5.drop(columns=['mean_yt','Views_on_Youtube'],inplace=True)"
   ]
  },
  {
   "cell_type": "code",
   "execution_count": 29,
   "id": "174aeba8-ccdf-4e74-af32-1f9012d16cce",
   "metadata": {},
   "outputs": [],
   "source": [
    "df5['mean_p']=df5.groupby('Song')['Total_Views_on_all_platforms'].transform('mean')"
   ]
  },
  {
   "cell_type": "code",
   "execution_count": 30,
   "id": "d4dd3f54-1418-46e5-ad36-e2383b700362",
   "metadata": {},
   "outputs": [],
   "source": [
    "df5['Total_Views_on_all_platforms']=np.where((df5['Total_Views_on_all_platforms']==0),df5['mean_p'],df5['Total_Views_on_all_platforms'])"
   ]
  },
  {
   "cell_type": "code",
   "execution_count": 63,
   "id": "890f344e-9d73-44ff-995a-202d67d6493a",
   "metadata": {},
   "outputs": [],
   "source": [
    "df5.drop(columns=['mean_p'],inplace=True)"
   ]
  },
  {
   "cell_type": "code",
   "execution_count": 65,
   "id": "e893c781-d9c7-488c-ac18-34c89c1e3b2b",
   "metadata": {},
   "outputs": [
    {
     "data": {
      "text/html": [
       "<div>\n",
       "<style scoped>\n",
       "    .dataframe tbody tr th:only-of-type {\n",
       "        vertical-align: middle;\n",
       "    }\n",
       "\n",
       "    .dataframe tbody tr th {\n",
       "        vertical-align: top;\n",
       "    }\n",
       "\n",
       "    .dataframe thead th {\n",
       "        text-align: right;\n",
       "    }\n",
       "</style>\n",
       "<table border=\"1\" class=\"dataframe\">\n",
       "  <thead>\n",
       "    <tr style=\"text-align: right;\">\n",
       "      <th></th>\n",
       "      <th>Date</th>\n",
       "      <th>Song</th>\n",
       "      <th>Total_Views_on_all_platforms</th>\n",
       "      <th>Views_on_YouTube</th>\n",
       "    </tr>\n",
       "  </thead>\n",
       "  <tbody>\n",
       "    <tr>\n",
       "      <th>0</th>\n",
       "      <td>2020-12-01</td>\n",
       "      <td>A</td>\n",
       "      <td>1057.000000</td>\n",
       "      <td>430.000000</td>\n",
       "    </tr>\n",
       "    <tr>\n",
       "      <th>1</th>\n",
       "      <td>2020-12-02</td>\n",
       "      <td>A</td>\n",
       "      <td>1131.000000</td>\n",
       "      <td>426.000000</td>\n",
       "    </tr>\n",
       "    <tr>\n",
       "      <th>2</th>\n",
       "      <td>2020-12-03</td>\n",
       "      <td>A</td>\n",
       "      <td>1133.000000</td>\n",
       "      <td>485.000000</td>\n",
       "    </tr>\n",
       "    <tr>\n",
       "      <th>3</th>\n",
       "      <td>2020-12-04</td>\n",
       "      <td>A</td>\n",
       "      <td>792.991525</td>\n",
       "      <td>125.000000</td>\n",
       "    </tr>\n",
       "    <tr>\n",
       "      <th>4</th>\n",
       "      <td>2020-12-05</td>\n",
       "      <td>A</td>\n",
       "      <td>905.000000</td>\n",
       "      <td>147.000000</td>\n",
       "    </tr>\n",
       "    <tr>\n",
       "      <th>...</th>\n",
       "      <td>...</td>\n",
       "      <td>...</td>\n",
       "      <td>...</td>\n",
       "      <td>...</td>\n",
       "    </tr>\n",
       "    <tr>\n",
       "      <th>231</th>\n",
       "      <td>2020-11-26</td>\n",
       "      <td>G</td>\n",
       "      <td>1043.000000</td>\n",
       "      <td>264.000000</td>\n",
       "    </tr>\n",
       "    <tr>\n",
       "      <th>232</th>\n",
       "      <td>2020-11-27</td>\n",
       "      <td>G</td>\n",
       "      <td>750.338983</td>\n",
       "      <td>302.000000</td>\n",
       "    </tr>\n",
       "    <tr>\n",
       "      <th>233</th>\n",
       "      <td>2020-11-28</td>\n",
       "      <td>G</td>\n",
       "      <td>766.000000</td>\n",
       "      <td>252.533898</td>\n",
       "    </tr>\n",
       "    <tr>\n",
       "      <th>234</th>\n",
       "      <td>2020-11-29</td>\n",
       "      <td>G</td>\n",
       "      <td>1111.000000</td>\n",
       "      <td>366.000000</td>\n",
       "    </tr>\n",
       "    <tr>\n",
       "      <th>235</th>\n",
       "      <td>2020-11-30</td>\n",
       "      <td>G</td>\n",
       "      <td>750.338983</td>\n",
       "      <td>428.000000</td>\n",
       "    </tr>\n",
       "  </tbody>\n",
       "</table>\n",
       "<p>826 rows × 4 columns</p>\n",
       "</div>"
      ],
      "text/plain": [
       "          Date Song  Total_Views_on_all_platforms  Views_on_YouTube\n",
       "0   2020-12-01    A                   1057.000000        430.000000\n",
       "1   2020-12-02    A                   1131.000000        426.000000\n",
       "2   2020-12-03    A                   1133.000000        485.000000\n",
       "3   2020-12-04    A                    792.991525        125.000000\n",
       "4   2020-12-05    A                    905.000000        147.000000\n",
       "..         ...  ...                           ...               ...\n",
       "231 2020-11-26    G                   1043.000000        264.000000\n",
       "232 2020-11-27    G                    750.338983        302.000000\n",
       "233 2020-11-28    G                    766.000000        252.533898\n",
       "234 2020-11-29    G                   1111.000000        366.000000\n",
       "235 2020-11-30    G                    750.338983        428.000000\n",
       "\n",
       "[826 rows x 4 columns]"
      ]
     },
     "execution_count": 65,
     "metadata": {},
     "output_type": "execute_result"
    }
   ],
   "source": [
    "df5"
   ]
  },
  {
   "cell_type": "code",
   "execution_count": null,
   "id": "b138b236-61be-4a23-af57-e71fe95b4c10",
   "metadata": {},
   "outputs": [],
   "source": []
  }
 ],
 "metadata": {
  "kernelspec": {
   "display_name": "Python 3 (ipykernel)",
   "language": "python",
   "name": "python3"
  },
  "language_info": {
   "codemirror_mode": {
    "name": "ipython",
    "version": 3
   },
   "file_extension": ".py",
   "mimetype": "text/x-python",
   "name": "python",
   "nbconvert_exporter": "python",
   "pygments_lexer": "ipython3",
   "version": "3.12.4"
  }
 },
 "nbformat": 4,
 "nbformat_minor": 5
}
