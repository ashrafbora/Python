{
 "cells": [
  {
   "cell_type": "code",
   "execution_count": 5,
   "id": "ecb1887d-5a54-4aab-8eec-99193e22660a",
   "metadata": {},
   "outputs": [],
   "source": [
    "def do_some_analysis_on_data(file_path):\n",
    "    import numpy as np\n",
    "    import pandas as pd\n",
    "    import matplotlib.pyplot as plt\n",
    "    import seaborn as sns\n",
    "    \n",
    "    df= pd.read_excel(file_path)\n",
    "    \n",
    "    print(df.head())\n",
    "    \n",
    "    print(df.isna().sum())\n",
    "    \n",
    "    srno=range(1,(len(df.columns))+1)\n",
    "    for i,j in zip(df.columns,srno):\n",
    "            print(j)\n",
    "            print('Column Name:',(i))\n",
    "            print('Columns Type:',df.dtypes[i])\n",
    "            print('******')\n",
    "    \n",
    "    print(df.shape)\n",
    "    \n",
    "    print('Before Removing Duplicates')\n",
    "    print(df)\n",
    "    \n",
    "    print(df[df.duplicated()])\n",
    "    \n",
    "    print(df.drop_duplicates)\n",
    "    \n",
    "    print('After Removing Duplicates')\n",
    "    print(df)\n",
    "    \n",
    "    print('Before Removing Constant Columns')\n",
    "    print(df)\n",
    "    \n",
    "    for i in df.columns:\n",
    "        if df[i].nunique() == 1:\n",
    "            print(i)\n",
    "    \n",
    "    \n",
    "    constant_columns = [i for i in df.columns if df[i].nunique() == 1]\n",
    "    print(constant_columns)\n",
    "    df.drop(columns= constant_columns,inplace = True)\n",
    "    \n",
    "    print('After Removing Constant Columns')\n",
    "    print(df)\n",
    "    \n",
    "    for i in df.columns:\n",
    "        if df.dtypes[i]== 'int64':\n",
    "            print(i)\n",
    "    \n",
    "    numeric_columns= [ i for i in df.columns if df.dtypes[i]== 'int64']\n",
    "    print(numeric_columns)\n",
    "    \n",
    "    for i in numeric_columns:\n",
    "        sns.boxplot(data=df[i])\n",
    "        plt.show()\n",
    "    \n",
    "    columns_to_plot = numeric_columns[1:7]\n",
    "    \n",
    "    print(columns_to_plot)\n",
    "    \n",
    "    for i in columns_to_plot:\n",
    "        sns.histplot(df[i])\n",
    "        plt.show()"
   ]
  },
  {
   "cell_type": "code",
   "execution_count": null,
   "id": "540b1393-2084-44cf-b35f-f33a79c1e9ef",
   "metadata": {},
   "outputs": [],
   "source": [
    "do_some_analysis_on_data(r'C:\\Users\\ashra\\Desktop\\SDBI Stuff\\Python\\Acadia Assignment\\AcadiaData.xlsx')"
   ]
  }
 ],
 "metadata": {
  "kernelspec": {
   "display_name": "Python 3 (ipykernel)",
   "language": "python",
   "name": "python3"
  },
  "language_info": {
   "codemirror_mode": {
    "name": "ipython",
    "version": 3
   },
   "file_extension": ".py",
   "mimetype": "text/x-python",
   "name": "python",
   "nbconvert_exporter": "python",
   "pygments_lexer": "ipython3",
   "version": "3.12.4"
  }
 },
 "nbformat": 4,
 "nbformat_minor": 5
}
